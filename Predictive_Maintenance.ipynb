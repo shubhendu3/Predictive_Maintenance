{
 "cells": [
  {
   "cell_type": "code",
   "execution_count": 2,
   "metadata": {},
   "outputs": [],
   "source": [
    "import numpy as np\n",
    "import pandas as pd\n",
    "import matplotlib.pyplot as plt\n",
    "import statsmodels.formula.api as smf\n",
    "import math\n",
    "from datetime import datetime\n",
    "from datetime import timedelta"
   ]
  },
  {
   "cell_type": "code",
   "execution_count": 3,
   "metadata": {},
   "outputs": [
    {
     "data": {
      "text/html": [
       "<div>\n",
       "<style scoped>\n",
       "    .dataframe tbody tr th:only-of-type {\n",
       "        vertical-align: middle;\n",
       "    }\n",
       "\n",
       "    .dataframe tbody tr th {\n",
       "        vertical-align: top;\n",
       "    }\n",
       "\n",
       "    .dataframe thead th {\n",
       "        text-align: right;\n",
       "    }\n",
       "</style>\n",
       "<table border=\"1\" class=\"dataframe\">\n",
       "  <thead>\n",
       "    <tr style=\"text-align: right;\">\n",
       "      <th></th>\n",
       "      <th>Serial No</th>\n",
       "      <th>Item Name</th>\n",
       "      <th>No of hours before maintainance</th>\n",
       "      <th>Avg hours of use each day</th>\n",
       "      <th>No of days after last maintenance</th>\n",
       "      <th>No of days before next maintenance</th>\n",
       "      <th>Year of Purchase</th>\n",
       "    </tr>\n",
       "  </thead>\n",
       "  <tbody>\n",
       "    <tr>\n",
       "      <th>0</th>\n",
       "      <td>1</td>\n",
       "      <td>Boiler</td>\n",
       "      <td>1000</td>\n",
       "      <td>5.0</td>\n",
       "      <td>60</td>\n",
       "      <td>140.000000</td>\n",
       "      <td>2015</td>\n",
       "    </tr>\n",
       "    <tr>\n",
       "      <th>1</th>\n",
       "      <td>2</td>\n",
       "      <td>Boiler</td>\n",
       "      <td>1200</td>\n",
       "      <td>5.5</td>\n",
       "      <td>72</td>\n",
       "      <td>146.181818</td>\n",
       "      <td>2013</td>\n",
       "    </tr>\n",
       "    <tr>\n",
       "      <th>2</th>\n",
       "      <td>3</td>\n",
       "      <td>Boiler</td>\n",
       "      <td>1238</td>\n",
       "      <td>6.0</td>\n",
       "      <td>67</td>\n",
       "      <td>139.333333</td>\n",
       "      <td>2017</td>\n",
       "    </tr>\n",
       "    <tr>\n",
       "      <th>3</th>\n",
       "      <td>4</td>\n",
       "      <td>Boiler</td>\n",
       "      <td>1100</td>\n",
       "      <td>6.5</td>\n",
       "      <td>56</td>\n",
       "      <td>113.230769</td>\n",
       "      <td>2014</td>\n",
       "    </tr>\n",
       "    <tr>\n",
       "      <th>4</th>\n",
       "      <td>5</td>\n",
       "      <td>Boiler</td>\n",
       "      <td>800</td>\n",
       "      <td>7.0</td>\n",
       "      <td>45</td>\n",
       "      <td>69.285714</td>\n",
       "      <td>2008</td>\n",
       "    </tr>\n",
       "  </tbody>\n",
       "</table>\n",
       "</div>"
      ],
      "text/plain": [
       "   Serial No Item Name  No of hours before maintainance  \\\n",
       "0          1    Boiler                             1000   \n",
       "1          2    Boiler                             1200   \n",
       "2          3    Boiler                             1238   \n",
       "3          4    Boiler                             1100   \n",
       "4          5    Boiler                              800   \n",
       "\n",
       "   Avg hours of use each day  No of days after last maintenance  \\\n",
       "0                        5.0                                 60   \n",
       "1                        5.5                                 72   \n",
       "2                        6.0                                 67   \n",
       "3                        6.5                                 56   \n",
       "4                        7.0                                 45   \n",
       "\n",
       "   No of days before next maintenance  Year of Purchase  \n",
       "0                          140.000000              2015  \n",
       "1                          146.181818              2013  \n",
       "2                          139.333333              2017  \n",
       "3                          113.230769              2014  \n",
       "4                           69.285714              2008  "
      ]
     },
     "execution_count": 3,
     "metadata": {},
     "output_type": "execute_result"
    }
   ],
   "source": [
    "df = pd.read_csv(r\"D:\\BE Project\\Predictive_Maintaience_Dataset.csv\")\n",
    "df.head()"
   ]
  },
  {
   "cell_type": "code",
   "execution_count": 4,
   "metadata": {},
   "outputs": [
    {
     "data": {
      "image/png": "[encoded data removed]",
      "text/plain": [
       "<Figure size 432x288 with 1 Axes>"
      ]
     },
     "metadata": {
      "needs_background": "light"
     },
     "output_type": "display_data"
    }
   ],
   "source": [
    "plt.scatter(df['Avg hours of use each day'],df['No of days before next maintenance'],color = 'blue')\n",
    "plt.title('Next Maintenance vs Avg hours each day', fontsize = 14)\n",
    "plt.xlabel('Avg hours of use each day',fontsize = 14)\n",
    "plt.ylabel('No of days before next maintenance',fontsize = 14)\n",
    "plt.grid(True)\n",
    "plt.show()"
   ]
  },
  {
   "cell_type": "code",
   "execution_count": 5,
   "metadata": {},
   "outputs": [
    {
     "data": {
      "image/png": "[encoded data removed]",
      "text/plain": [
       "<Figure size 432x288 with 1 Axes>"
      ]
     },
     "metadata": {
      "needs_background": "light"
     },
     "output_type": "display_data"
    }
   ],
   "source": [
    "plt.scatter(df['No of hours before maintainance'],df['No of days before next maintenance'],color = 'blue')\n",
    "plt.title('Next Maintenance vs No of hours before maintainance', fontsize = 14)\n",
    "plt.xlabel('No of hours before maintainance',fontsize = 14)\n",
    "plt.ylabel('No of days before next maintenance',fontsize = 14)\n",
    "plt.grid(True)\n",
    "plt.show()"
   ]
  },
  {
   "cell_type": "code",
   "execution_count": 6,
   "metadata": {},
   "outputs": [
    {
     "data": {
      "image/png": "[encoded data removed]",
      "text/plain": [
       "<Figure size 432x288 with 1 Axes>"
      ]
     },
     "metadata": {
      "needs_background": "light"
     },
     "output_type": "display_data"
    }
   ],
   "source": [
    "plt.scatter(df['No of days after last maintenance'],df['No of days before next maintenance'],color = 'blue')\n",
    "plt.title('Next Maintenance vs No of days after last maintenance', fontsize = 14)\n",
    "plt.xlabel('No of days after last maintenance',fontsize = 14)\n",
    "plt.ylabel('No of days before next maintenance',fontsize = 14)\n",
    "plt.grid(True)\n",
    "plt.show()"
   ]
  },
  {
   "cell_type": "code",
   "execution_count": 7,
   "metadata": {
    "scrolled": false
   },
   "outputs": [
    {
     "data": {
      "text/html": [
       "<div>\n",
       "<style scoped>\n",
       "    .dataframe tbody tr th:only-of-type {\n",
       "        vertical-align: middle;\n",
       "    }\n",
       "\n",
       "    .dataframe tbody tr th {\n",
       "        vertical-align: top;\n",
       "    }\n",
       "\n",
       "    .dataframe thead th {\n",
       "        text-align: right;\n",
       "    }\n",
       "</style>\n",
       "<table border=\"1\" class=\"dataframe\">\n",
       "  <thead>\n",
       "    <tr style=\"text-align: right;\">\n",
       "      <th></th>\n",
       "      <th>Serial No</th>\n",
       "      <th>No of hours before maintainance</th>\n",
       "      <th>Avg hours of use each day</th>\n",
       "      <th>No of days after last maintenance</th>\n",
       "      <th>No of days before next maintenance</th>\n",
       "      <th>Year of Purchase</th>\n",
       "    </tr>\n",
       "  </thead>\n",
       "  <tbody>\n",
       "    <tr>\n",
       "      <th>Serial No</th>\n",
       "      <td>1.000000</td>\n",
       "      <td>0.655788</td>\n",
       "      <td>0.815195</td>\n",
       "      <td>-0.259143</td>\n",
       "      <td>-0.433854</td>\n",
       "      <td>0.176978</td>\n",
       "    </tr>\n",
       "    <tr>\n",
       "      <th>No of hours before maintainance</th>\n",
       "      <td>0.655788</td>\n",
       "      <td>1.000000</td>\n",
       "      <td>0.904227</td>\n",
       "      <td>0.042624</td>\n",
       "      <td>-0.140954</td>\n",
       "      <td>0.265427</td>\n",
       "    </tr>\n",
       "    <tr>\n",
       "      <th>Avg hours of use each day</th>\n",
       "      <td>0.815195</td>\n",
       "      <td>0.904227</td>\n",
       "      <td>1.000000</td>\n",
       "      <td>-0.123127</td>\n",
       "      <td>-0.413360</td>\n",
       "      <td>0.240974</td>\n",
       "    </tr>\n",
       "    <tr>\n",
       "      <th>No of days after last maintenance</th>\n",
       "      <td>-0.259143</td>\n",
       "      <td>0.042624</td>\n",
       "      <td>-0.123127</td>\n",
       "      <td>1.000000</td>\n",
       "      <td>-0.284195</td>\n",
       "      <td>0.098599</td>\n",
       "    </tr>\n",
       "    <tr>\n",
       "      <th>No of days before next maintenance</th>\n",
       "      <td>-0.433854</td>\n",
       "      <td>-0.140954</td>\n",
       "      <td>-0.413360</td>\n",
       "      <td>-0.284195</td>\n",
       "      <td>1.000000</td>\n",
       "      <td>-0.111739</td>\n",
       "    </tr>\n",
       "    <tr>\n",
       "      <th>Year of Purchase</th>\n",
       "      <td>0.176978</td>\n",
       "      <td>0.265427</td>\n",
       "      <td>0.240974</td>\n",
       "      <td>0.098599</td>\n",
       "      <td>-0.111739</td>\n",
       "      <td>1.000000</td>\n",
       "    </tr>\n",
       "  </tbody>\n",
       "</table>\n",
       "</div>"
      ],
      "text/plain": [
       "                                    Serial No  \\\n",
       "Serial No                            1.000000   \n",
       "No of hours before maintainance      0.655788   \n",
       "Avg hours of use each day            0.815195   \n",
       "No of days after last maintenance   -0.259143   \n",
       "No of days before next maintenance  -0.433854   \n",
       "Year of Purchase                     0.176978   \n",
       "\n",
       "                                    No of hours before maintainance  \\\n",
       "Serial No                                                  0.655788   \n",
       "No of hours before maintainance                            1.000000   \n",
       "Avg hours of use each day                                  0.904227   \n",
       "No of days after last maintenance                          0.042624   \n",
       "No of days before next maintenance                        -0.140954   \n",
       "Year of Purchase                                           0.265427   \n",
       "\n",
       "                                    Avg hours of use each day  \\\n",
       "Serial No                                            0.815195   \n",
       "No of hours before maintainance                      0.904227   \n",
       "Avg hours of use each day                            1.000000   \n",
       "No of days after last maintenance                   -0.123127   \n",
       "No of days before next maintenance                  -0.413360   \n",
       "Year of Purchase                                     0.240974   \n",
       "\n",
       "                                    No of days after last maintenance  \\\n",
       "Serial No                                                   -0.259143   \n",
       "No of hours before maintainance                              0.042624   \n",
       "Avg hours of use each day                                   -0.123127   \n",
       "No of days after last maintenance                            1.000000   \n",
       "No of days before next maintenance                          -0.284195   \n",
       "Year of Purchase                                             0.098599   \n",
       "\n",
       "                                    No of days before next maintenance  \\\n",
       "Serial No                                                    -0.433854   \n",
       "No of hours before maintainance                              -0.140954   \n",
       "Avg hours of use each day                                    -0.413360   \n",
       "No of days after last maintenance                            -0.284195   \n",
       "No of days before next maintenance                            1.000000   \n",
       "Year of Purchase                                             -0.111739   \n",
       "\n",
       "                                    Year of Purchase  \n",
       "Serial No                                   0.176978  \n",
       "No of hours before maintainance             0.265427  \n",
       "Avg hours of use each day                   0.240974  \n",
       "No of days after last maintenance           0.098599  \n",
       "No of days before next maintenance         -0.111739  \n",
       "Year of Purchase                            1.000000  "
      ]
     },
     "execution_count": 7,
     "metadata": {},
     "output_type": "execute_result"
    }
   ],
   "source": [
    "df.corr()"
   ]
  },
  {
   "cell_type": "code",
   "execution_count": 8,
   "metadata": {},
   "outputs": [],
   "source": [
    "X = df[['No of hours before maintainance','Avg hours of use each day','No of days after last maintenance']]\n",
    "Y = df['No of days before next maintenance']"
   ]
  },
  {
   "cell_type": "code",
   "execution_count": 9,
   "metadata": {},
   "outputs": [
    {
     "data": {
      "text/plain": [
       "LinearRegression(copy_X=True, fit_intercept=True, n_jobs=None,\n",
       "         normalize=False)"
      ]
     },
     "execution_count": 9,
     "metadata": {},
     "output_type": "execute_result"
    }
   ],
   "source": [
    "from sklearn import linear_model\n",
    "my_mlmodel = linear_model.LinearRegression()\n",
    "my_mlmodel.fit(X,Y)"
   ]
  },
  {
   "cell_type": "code",
   "execution_count": 10,
   "metadata": {},
   "outputs": [
    {
     "name": "stdout",
     "output_type": "stream",
     "text": [
      "Intercept \n",
      " 109.65061033000762\n",
      "Intercept \n",
      " [  0.12617291 -13.27976588  -1.0049943 ]\n"
     ]
    }
   ],
   "source": [
    "print(\"Intercept \\n\",my_mlmodel.intercept_)\n",
    "print(\"Intercept \\n\",my_mlmodel.coef_)"
   ]
  },
  {
   "cell_type": "code",
   "execution_count": 16,
   "metadata": {},
   "outputs": [
    {
     "name": "stdout",
     "output_type": "stream",
     "text": [
      "No of hours before maintenance: 720\n",
      "Average hours used per day: 5.8\n",
      "No of days after last maintenance: 73\n",
      "Number of days: 50\n",
      "Today's Date: 2021-05-22\n",
      "Date of Maintenance 2021-07-11\n"
     ]
    }
   ],
   "source": [
    "New_Hours_bef_maintenance = int(input(\"No of hours before maintenance: \"))\n",
    "New_Avg_hours = input(\"Average hours used per day: \")\n",
    "New_Avg_hours = float(New_Avg_hours)\n",
    "New_Days_after_last_maintenance = int(input(\"No of days after last maintenance: \"))\n",
    "result = my_mlmodel.predict([[New_Hours_bef_maintenance,New_Avg_hours,New_Days_after_last_maintenance]])\n",
    "result = math.floor(result)\n",
    "today = datetime.today().strftime('%Y-%m-%d')\n",
    "todaystring = str(today)\n",
    "begindate = datetime.strptime(todaystring, \"%Y-%m-%d\")\n",
    "enddate = begindate+timedelta(days=result)\n",
    "enddatestring = str(enddate)\n",
    "maintenancedate = enddatestring[0:10:]\n",
    "print(f\"Number of days: {result}\")\n",
    "print(f\"Today's Date: {todaystring}\")\n",
    "print(f\"Date of Maintenance {maintenancedate}\")"
   ]
  },
  {
   "cell_type": "code",
   "execution_count": 13,
   "metadata": {},
   "outputs": [
    {
     "name": "stdout",
     "output_type": "stream",
     "text": [
      "                            OLS Regression Results                            \n",
      "==============================================================================\n",
      "Dep. Variable:                      Y   R-squared:                       0.799\n",
      "Model:                            OLS   Adj. R-squared:                  0.796\n",
      "Method:                 Least Squares   F-statistic:                     275.1\n",
      "Date:                Sat, 22 May 2021   Prob (F-statistic):           4.12e-72\n",
      "Time:                        12:39:06   Log-Likelihood:                -881.67\n",
      "No. Observations:                 212   AIC:                             1771.\n",
      "Df Residuals:                     208   BIC:                             1785.\n",
      "Df Model:                           3                                         \n",
      "Covariance Type:            nonrobust                                         \n",
      "==============================================================================\n",
      "                 coef    std err          t      P>|t|      [0.025      0.975]\n",
      "------------------------------------------------------------------------------\n",
      "Intercept    109.6506      4.038     27.152      0.000     101.689     117.612\n",
      "X[0]           0.1262      0.005     23.041      0.000       0.115       0.137\n",
      "X[1]         -13.2798      0.493    -26.919      0.000     -14.252     -12.307\n",
      "X[2]          -1.0050      0.054    -18.483      0.000      -1.112      -0.898\n",
      "==============================================================================\n",
      "Omnibus:                      103.562   Durbin-Watson:                   1.389\n",
      "Prob(Omnibus):                  0.000   Jarque-Bera (JB):              523.850\n",
      "Skew:                           1.888   Prob(JB):                    1.77e-114\n",
      "Kurtosis:                       9.712   Cond. No.                     5.11e+03\n",
      "==============================================================================\n",
      "\n",
      "Warnings:\n",
      "[1] Standard Errors assume that the covariance matrix of the errors is correctly specified.\n",
      "[2] The condition number is large, 5.11e+03. This might indicate that there are\n",
      "strong multicollinearity or other numerical problems.\n"
     ]
    }
   ],
   "source": [
    "X = df[['No of hours before maintainance','Avg hours of use each day','No of days after last maintenance']]\n",
    "Y = df['No of days before next maintenance']\n",
    "model = (smf.ols(formula = \"Y ~ X\",data = df)).fit()\n",
    "predictions = model.predict(X)\n",
    "print(model.summary())\n"
   ]
  },
  {
   "cell_type": "code",
   "execution_count": null,
   "metadata": {},
   "outputs": [],
   "source": []
  }
 ],
 "metadata": {
  "kernelspec": {
   "display_name": "Python 3",
   "language": "python",
   "name": "python3"
  },
  "language_info": {
   "codemirror_mode": {
    "name": "ipython",
    "version": 3
   },
   "file_extension": ".py",
   "mimetype": "text/x-python",
   "name": "python",
   "nbconvert_exporter": "python",
   "pygments_lexer": "ipython3",
   "version": "3.7.1"
  }
 },
 "nbformat": 4,
 "nbformat_minor": 2
}
